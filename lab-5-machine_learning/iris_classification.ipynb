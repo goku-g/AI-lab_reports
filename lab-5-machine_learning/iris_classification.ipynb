{
 "cells": [
  {
   "cell_type": "code",
   "execution_count": 93,
   "metadata": {},
   "outputs": [],
   "source": [
    "import sklearn.datasets as sk\n",
    "from sklearn.model_selection import train_test_split\n",
    "import numpy as np\n",
    "import matplotlib.pyplot as plt\n",
    "# from random import shuffle\n",
    "from sklearn.utils import shuffle\n",
    "\n",
    "dataset = sk.load_iris()"
   ]
  },
  {
   "cell_type": "code",
   "execution_count": 102,
   "metadata": {},
   "outputs": [
    {
     "data": {
      "text/plain": [
       "array([0, 1, 0, 1, 2, 1, 2, 2, 2, 0, 0, 0, 2, 1, 0, 0, 1, 1, 0, 0, 0, 1,\n",
       "       2, 0, 1, 1, 2, 0, 1, 2, 0, 1, 1, 2, 2, 2, 0, 2, 1, 1, 1, 2, 1, 2,\n",
       "       2, 0, 0, 1, 2, 1, 1, 2, 2, 1, 0, 1, 0, 2, 1, 1, 0, 0, 1, 2, 0, 2,\n",
       "       2, 2, 1, 2, 2, 2, 2, 0, 2, 1, 2, 0, 2, 2, 1, 1, 1, 1, 2, 0, 1, 1,\n",
       "       0, 2, 2, 1, 1, 0, 0, 2, 0, 1, 1, 0, 0, 0, 1, 2, 0, 0, 2, 2, 0, 0,\n",
       "       0, 0, 1, 2, 0, 0, 0, 1, 1, 2, 0, 1, 0, 0, 0, 2, 0, 2, 0, 0, 2, 2,\n",
       "       1, 2, 0, 0, 1, 1, 0, 1, 2, 2, 1, 2, 1, 1, 1, 1, 2, 2])"
      ]
     },
     "execution_count": 102,
     "metadata": {},
     "output_type": "execute_result"
    }
   ],
   "source": [
    "dataset.target"
   ]
  },
  {
   "cell_type": "code",
   "execution_count": 94,
   "metadata": {},
   "outputs": [],
   "source": [
    "dataset.data, dataset.target = shuffle(dataset.data, dataset.target)"
   ]
  },
  {
   "cell_type": "code",
   "execution_count": 95,
   "metadata": {},
   "outputs": [
    {
     "data": {
      "text/plain": [
       "(100, 4)"
      ]
     },
     "execution_count": 95,
     "metadata": {},
     "output_type": "execute_result"
    }
   ],
   "source": [
    "index = 0\n",
    "new_dataset = []\n",
    "new_target = []\n",
    "\n",
    "for data in dataset.data:\n",
    "    \n",
    "    if dataset.target[index] == 0 or dataset.target[index] == 1:\n",
    "        new_dataset.append(data)\n",
    "        new_target.append(dataset.target[index])\n",
    "        # print(data)\n",
    "    index += 1\n",
    "\n",
    "new_dataset = np.array(new_dataset)\n",
    "new_target = np.array(new_target)\n",
    "new_target_names = ['setosa', 'versicolor']\n",
    "\n",
    "new_dataset.shape"
   ]
  },
  {
   "cell_type": "code",
   "execution_count": 96,
   "metadata": {},
   "outputs": [
    {
     "data": {
      "text/plain": [
       "(60, 4)"
      ]
     },
     "execution_count": 96,
     "metadata": {},
     "output_type": "execute_result"
    }
   ],
   "source": [
    "X_train, X_test, y_train, y_test = train_test_split(new_dataset, new_target, random_state=0, train_size = .6)\n",
    "X_train.shape"
   ]
  },
  {
   "cell_type": "code",
   "execution_count": 97,
   "metadata": {},
   "outputs": [],
   "source": [
    "def sigmoid(z):\n",
    "    # sigmoid activation\n",
    "    return 1/(1 + np.exp(-z))"
   ]
  },
  {
   "cell_type": "code",
   "execution_count": 98,
   "metadata": {},
   "outputs": [],
   "source": [
    "rand = np.random.RandomState(0)\n",
    "theta = rand.uniform(size=(5, 1))*0.5\n",
    "\n",
    "alpha = 0.1\n"
   ]
  },
  {
   "cell_type": "code",
   "execution_count": 99,
   "metadata": {},
   "outputs": [],
   "source": [
    "theta0 = []\n",
    "theta1 = []\n",
    "theta2 = []\n",
    "theta3 = []\n",
    "\n",
    "for i in range(20):\n",
    "    # print(\"Number of Iterations:\", i)\n",
    "    for j in range(X_train.shape[0]):\n",
    "        \n",
    "        val = 0\n",
    "\n",
    "        length = theta.shape[0]-1\n",
    "        for k in range(length):\n",
    "            val = val + X_train[j][k]*theta[k+1]\n",
    "        \n",
    "        y_hat = sigmoid(val + theta[0])\n",
    "        error = y_train[j] - y_hat\n",
    "\n",
    "        for k in range(length):\n",
    "            theta[k+1] = theta[k+1] + alpha*X_train[j][k]*error\n",
    "        \n",
    "        theta[0] = theta[0] + alpha*error\n",
    "\n",
    "        theta0.append(theta[0])\n",
    "        theta1.append(theta[1])\n",
    "        theta2.append(theta[2])\n",
    "        theta3.append(theta[3])"
   ]
  },
  {
   "cell_type": "code",
   "execution_count": null,
   "metadata": {},
   "outputs": [],
   "source": [
    "plt.plot(theta3)"
   ]
  },
  {
   "cell_type": "code",
   "execution_count": 100,
   "metadata": {},
   "outputs": [],
   "source": [
    "def predict(X, theta):\n",
    "    val = theta[0]\n",
    "    for i in range(len(theta)-1):\n",
    "        val = val + X[i]*theta[i+1]\n",
    "    \n",
    "    return sigmoid(val)"
   ]
  },
  {
   "cell_type": "code",
   "execution_count": 108,
   "metadata": {},
   "outputs": [
    {
     "name": "stdout",
     "output_type": "stream",
     "text": [
      "1\n"
     ]
    },
    {
     "data": {
      "text/plain": [
       "array([0.94003217])"
      ]
     },
     "execution_count": 108,
     "metadata": {},
     "output_type": "execute_result"
    }
   ],
   "source": [
    "index = 0\n",
    "print(y_test[index])\n",
    "predict(X_test[index],theta)"
   ]
  },
  {
   "cell_type": "code",
   "execution_count": null,
   "metadata": {},
   "outputs": [],
   "source": []
  }
 ],
 "metadata": {
  "interpreter": {
   "hash": "916dbcbb3f70747c44a77c7bcd40155683ae19c65e1c03b4aa3499c5328201f1"
  },
  "kernelspec": {
   "display_name": "Python 3.8.10 64-bit",
   "language": "python",
   "name": "python3"
  },
  "language_info": {
   "codemirror_mode": {
    "name": "ipython",
    "version": 3
   },
   "file_extension": ".py",
   "mimetype": "text/x-python",
   "name": "python",
   "nbconvert_exporter": "python",
   "pygments_lexer": "ipython3",
   "version": "3.8.10"
  },
  "orig_nbformat": 4
 },
 "nbformat": 4,
 "nbformat_minor": 2
}
