{
 "cells": [
  {
   "cell_type": "code",
   "execution_count": 13,
   "metadata": {},
   "outputs": [],
   "source": [
    "import sklearn.datasets as sk\n",
    "from sklearn.model_selection import train_test_split\n",
    "import numpy as np\n",
    "import matplotlib.pyplot as plt\n",
    "# from random import shuffle\n",
    "from sklearn.utils import shuffle\n",
    "\n",
    "dataset = sk.load_iris()"
   ]
  },
  {
   "cell_type": "code",
   "execution_count": 14,
   "metadata": {},
   "outputs": [
    {
     "data": {
      "text/plain": [
       "array(['setosa', 'versicolor', 'virginica'], dtype='<U10')"
      ]
     },
     "execution_count": 14,
     "metadata": {},
     "output_type": "execute_result"
    }
   ],
   "source": [
    "dataset.target_names"
   ]
  },
  {
   "cell_type": "code",
   "execution_count": 15,
   "metadata": {},
   "outputs": [],
   "source": [
    "dataset.data, dataset.target = shuffle(dataset.data, dataset.target)"
   ]
  },
  {
   "cell_type": "code",
   "execution_count": 16,
   "metadata": {},
   "outputs": [
    {
     "data": {
      "text/plain": [
       "(100, 4)"
      ]
     },
     "execution_count": 16,
     "metadata": {},
     "output_type": "execute_result"
    }
   ],
   "source": [
    "index = 0\n",
    "new_dataset = []\n",
    "new_target = []\n",
    "\n",
    "for data in dataset.data:\n",
    "    \n",
    "    if dataset.target[index] == 0 or dataset.target[index] == 1:\n",
    "        new_dataset.append(data)\n",
    "        new_target.append(dataset.target[index])\n",
    "        # print(data)\n",
    "    index += 1\n",
    "\n",
    "new_dataset = np.array(new_dataset)\n",
    "new_target = np.array(new_target)\n",
    "new_target_names = ['setosa', 'versicolor']\n",
    "\n",
    "new_dataset.shape"
   ]
  },
  {
   "cell_type": "code",
   "execution_count": 17,
   "metadata": {},
   "outputs": [
    {
     "data": {
      "text/plain": [
       "(60, 4)"
      ]
     },
     "execution_count": 17,
     "metadata": {},
     "output_type": "execute_result"
    }
   ],
   "source": [
    "X_train, X_test, y_train, y_test = train_test_split(new_dataset, new_target, random_state=0, train_size = .6)\n",
    "X_train.shape"
   ]
  },
  {
   "cell_type": "code",
   "execution_count": 18,
   "metadata": {},
   "outputs": [],
   "source": [
    "def sigmoid(z):\n",
    "    # sigmoid activation\n",
    "    return 1/(1 + np.exp(-z))"
   ]
  },
  {
   "cell_type": "code",
   "execution_count": 19,
   "metadata": {},
   "outputs": [],
   "source": [
    "rand = np.random.RandomState(0)\n",
    "theta = rand.uniform(size=(5, 1))*0.5\n",
    "\n",
    "alpha = 0.1\n"
   ]
  },
  {
   "cell_type": "code",
   "execution_count": 20,
   "metadata": {},
   "outputs": [],
   "source": [
    "theta0 = []\n",
    "theta1 = []\n",
    "theta2 = []\n",
    "theta3 = []\n",
    "\n",
    "for i in range(20):\n",
    "    # print(\"Number of Iterations:\", i)\n",
    "    for j in range(X_train.shape[0]):\n",
    "        \n",
    "        val = 0\n",
    "\n",
    "        length = theta.shape[0]-1\n",
    "        for k in range(length):\n",
    "            val = val + X_train[j][k]*theta[k+1]\n",
    "        \n",
    "        y_hat = sigmoid(val + theta[0])\n",
    "        error = y_train[j] - y_hat\n",
    "\n",
    "        for k in range(length):\n",
    "            theta[k+1] = theta[k+1] + alpha*X_train[j][k]*error\n",
    "        \n",
    "        theta[0] = theta[0] + alpha*error\n",
    "\n",
    "        theta0.append(theta[0])\n",
    "        theta1.append(theta[1])\n",
    "        theta2.append(theta[2])\n",
    "        theta3.append(theta[3])"
   ]
  },
  {
   "cell_type": "code",
   "execution_count": 26,
   "metadata": {},
   "outputs": [
    {
     "data": {
      "image/png": "[encoded data removed]",
      "text/plain": [
       "<Figure size 936x648 with 4 Axes>"
      ]
     },
     "metadata": {
      "needs_background": "light"
     },
     "output_type": "display_data"
    }
   ],
   "source": [
    "fig, ax = plt.subplots(2, 2, figsize=(13, 9))\n",
    "ax[0,0].title.set_text(\"Weight 1\")\n",
    "ax[0,1].title.set_text(\"Weight 2\")\n",
    "ax[1,0].title.set_text(\"Weight 3\")\n",
    "ax[0,0].plot(theta0, \"r-\")\n",
    "ax[0,1].plot(theta1, \"b-\")\n",
    "ax[1,0].plot(theta2, \"g-\")\n",
    "plt.show()"
   ]
  },
  {
   "cell_type": "code",
   "execution_count": 10,
   "metadata": {},
   "outputs": [],
   "source": [
    "def predict(X, theta):\n",
    "    val = theta[0]\n",
    "    for i in range(len(theta)-1):\n",
    "        val = val + X[i]*theta[i+1]\n",
    "    \n",
    "    return sigmoid(val)"
   ]
  },
  {
   "cell_type": "code",
   "execution_count": 11,
   "metadata": {},
   "outputs": [
    {
     "name": "stdout",
     "output_type": "stream",
     "text": [
      "1\n"
     ]
    },
    {
     "data": {
      "text/plain": [
       "array([0.99915095])"
      ]
     },
     "execution_count": 11,
     "metadata": {},
     "output_type": "execute_result"
    }
   ],
   "source": [
    "index = 0\n",
    "print(y_test[index])\n",
    "predict(X_test[index],theta)"
   ]
  },
  {
   "cell_type": "code",
   "execution_count": null,
   "metadata": {},
   "outputs": [],
   "source": []
  }
 ],
 "metadata": {
  "interpreter": {
   "hash": "916dbcbb3f70747c44a77c7bcd40155683ae19c65e1c03b4aa3499c5328201f1"
  },
  "kernelspec": {
   "display_name": "Python 3.8.10 64-bit",
   "language": "python",
   "name": "python3"
  },
  "language_info": {
   "codemirror_mode": {
    "name": "ipython",
    "version": 3
   },
   "file_extension": ".py",
   "mimetype": "text/x-python",
   "name": "python",
   "nbconvert_exporter": "python",
   "pygments_lexer": "ipython3",
   "version": "3.8.10"
  },
  "orig_nbformat": 4
 },
 "nbformat": 4,
 "nbformat_minor": 2
}
