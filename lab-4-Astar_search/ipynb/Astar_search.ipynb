{
 "cells": [
  {
   "cell_type": "code",
   "execution_count": 18,
   "metadata": {},
   "outputs": [],
   "source": [
    "import numpy as np\n",
    "\n",
    "g_index = 0\n",
    "f_index = 1\n",
    "prev = 2"
   ]
  },
  {
   "cell_type": "code",
   "execution_count": 19,
   "metadata": {},
   "outputs": [],
   "source": [
    "def get_minimun(unvisited):\n",
    "    fval = np.inf\n",
    "    place = \"\"\n",
    "\n",
    "    for city in unvisited.keys():\n",
    "        if unvisited[city][1] < fval:\n",
    "            fval = unvisited[city][1]\n",
    "            place = city\n",
    "    return place"
   ]
  },
  {
   "cell_type": "code",
   "execution_count": 20,
   "metadata": {},
   "outputs": [],
   "source": [
    "def Astar(graph, start, goal):\n",
    "    visited = {}\n",
    "    unvisited = {}\n",
    "    done = False\n",
    "\n",
    "    for place in graph.keys():\n",
    "        #                   g-score, f-score, previous\n",
    "        unvisited[place] = [np.inf, np.inf, \"\"]\n",
    "    \n",
    "    unvisited[start] = [0, h[start], \"\"]\n",
    "\n",
    "    while not done:\n",
    "        if False:\n",
    "            done = True\n",
    "        else:\n",
    "            current_node = get_minimun(unvisited)\n",
    "            if current_node == goal:\n",
    "                done = True\n",
    "                visited[current_node] = unvisited[current_node]\n",
    "            else:\n",
    "                for neighbor in graph[current_node]:\n",
    "                    if neighbor not in visited:\n",
    "                        g_score =  unvisited[current_node][g_index] + graph[current_node][neighbor]\n",
    "                        \n",
    "                        if g_score < unvisited[neighbor][g_index]:\n",
    "                            unvisited[neighbor][g_index] = g_score\n",
    "                            unvisited[neighbor][f_index] = g_score + h[neighbor]\n",
    "                            unvisited[neighbor][prev] = current_node\n",
    "                \n",
    "                visited[current_node] = unvisited[current_node]\n",
    "                del unvisited[current_node]\n",
    "    \n",
    "    return visited"
   ]
  },
  {
   "cell_type": "code",
   "execution_count": 21,
   "metadata": {},
   "outputs": [],
   "source": [
    "graph = {\n",
    "            \"Biratnagar\": {\"Itahari\":22, \"Biratchowk\":30, \"Rangeli\":25}, \n",
    "            \"Itahari\": {\"Dharan\":20, \"Biratchowk\":11, \"Biratnagar\":22},\n",
    "            \"Dharan\": {\"Itahari\":20},\n",
    "            \"Rangeli\": {\"Kanepokhari\":25, \"Urlabari\":40, \"Biratnagar\":25},\n",
    "            \"Biratchowk\" : {\"Kanepokhari\":10, \"Itahari\":11, \"Biratnagar\":30},\n",
    "            \"Kanepokhari\": {\"Urlabari\":12, \"Rangeli\":25, \"Biratchowk\":10},\n",
    "            \"Urlabari\": {\"Damak\":6, \"Kanepokhari\":12, \"Rangeli\":40},\n",
    "            \"Damak\": {\"Urlabari\":6}\n",
    "        }\n",
    "# heuristic function h(n)\n",
    "h = {\n",
    "            \"Biratnagar\": 46, \n",
    "            \"Itahari\": 39,\n",
    "            \"Dharan\": 41,\n",
    "            \"Rangeli\": 28,\n",
    "            \"Biratchowk\" : 29,\n",
    "            \"Kanepokhari\": 17,\n",
    "            \"Urlabari\": 6,\n",
    "            \"Damak\": 0\n",
    "         }"
   ]
  },
  {
   "cell_type": "code",
   "execution_count": 22,
   "metadata": {},
   "outputs": [],
   "source": [
    "def make_map(dict, goal):\n",
    "    path = goal\n",
    "    temp = goal\n",
    "    while dict[temp][prev] != \"\":\n",
    "        path = dict[temp][prev] + \"-->\" + path\n",
    "        temp = dict[temp][prev]\n",
    "    \n",
    "    return path"
   ]
  },
  {
   "cell_type": "code",
   "execution_count": 26,
   "metadata": {},
   "outputs": [
    {
     "name": "stdout",
     "output_type": "stream",
     "text": [
      "Itahari-->Biratchowk-->Kanepokhari-->Urlabari-->Damak\n"
     ]
    }
   ],
   "source": [
    "start = \"Itahari\"\n",
    "goal = \"Damak\"\n",
    "\n",
    "visit_node = Astar(graph, start, goal)\n",
    "\n",
    "print(make_map(visit_node, goal))   "
   ]
  }
 ],
 "metadata": {
  "interpreter": {
   "hash": "916dbcbb3f70747c44a77c7bcd40155683ae19c65e1c03b4aa3499c5328201f1"
  },
  "kernelspec": {
   "display_name": "Python 3.8.10 64-bit",
   "language": "python",
   "name": "python3"
  },
  "language_info": {
   "codemirror_mode": {
    "name": "ipython",
    "version": 3
   },
   "file_extension": ".py",
   "mimetype": "text/x-python",
   "name": "python",
   "nbconvert_exporter": "python",
   "pygments_lexer": "ipython3",
   "version": "3.8.10"
  },
  "orig_nbformat": 4
 },
 "nbformat": 4,
 "nbformat_minor": 2
}
