{
 "cells": [
  {
   "cell_type": "code",
   "execution_count": 32,
   "metadata": {},
   "outputs": [],
   "source": [
    "def DFS(graph, start, target):\n",
    "    visited = []\n",
    "    stack = []\n",
    "    prev = dict()\n",
    "    stack.append(start)\n",
    "\n",
    "    while len(stack) > 0:\n",
    "        popped = stack.pop()\n",
    "        if popped not in visited:\n",
    "            if popped == target:\n",
    "                return (True, prev)\n",
    "            visited.append(popped)\n",
    "\n",
    "            for vertex in graph[popped]:\n",
    "                if vertex not in visited and vertex not in stack:\n",
    "                    stack.append(vertex)\n",
    "                    prev[vertex] = popped\n",
    "    return (False, prev)"
   ]
  },
  {
   "cell_type": "code",
   "execution_count": 49,
   "metadata": {},
   "outputs": [],
   "source": [
    "def BFS(graph, start, target):\n",
    "    visited = []\n",
    "    queue = []\n",
    "    prev = dict()\n",
    "    queue.append(start)\n",
    "\n",
    "    while len(queue) > 0:\n",
    "        popped = queue.pop(0)\n",
    "        if popped not in visited:\n",
    "            if popped == target:\n",
    "                return (True, prev)\n",
    "            visited.append(popped)\n",
    "\n",
    "            for vertex in graph[popped]:\n",
    "                if vertex not in visited and vertex not in queue:\n",
    "                    queue.append(vertex)\n",
    "                    prev[vertex] = popped\n",
    "    return (False, prev)"
   ]
  },
  {
   "cell_type": "code",
   "execution_count": 50,
   "metadata": {},
   "outputs": [],
   "source": [
    "def draw_path(path, start, goal):\n",
    "    map_ = goal\n",
    "    temp = goal\n",
    "\n",
    "    while path[temp] != start:\n",
    "        map_ = path[temp] + \"-->\" + map_\n",
    "        temp = path[temp]\n",
    "    return start + \"-->\" + map_\n",
    "        \n"
   ]
  },
  {
   "cell_type": "code",
   "execution_count": 56,
   "metadata": {},
   "outputs": [
    {
     "name": "stdout",
     "output_type": "stream",
     "text": [
      "True\n",
      "B-->D-->G\n",
      "True\n",
      "B-->D-->G\n"
     ]
    }
   ],
   "source": [
    "graph = {\n",
    "        'A': ['B', 'C'], \n",
    "        'B': ['D', 'E', 'A'], \n",
    "        'C': ['F', 'A'], \n",
    "        'D': ['G', 'B'], \n",
    "        'E': ['H', 'B'], \n",
    "        'F': ['C'], \n",
    "        'G': ['D'], \n",
    "        'H': ['E']\n",
    "        }\n",
    "\n",
    "start = 'B'\n",
    "goal = 'G'\n",
    "\n",
    "done, path = DFS(graph, start, goal)\n",
    "print(done)\n",
    "print(draw_path(path, start, goal))\n",
    "\n",
    "done, path = BFS(graph, start, goal)\n",
    "print(done)\n",
    "print(draw_path(path, start, goal))"
   ]
  },
  {
   "cell_type": "code",
   "execution_count": null,
   "metadata": {},
   "outputs": [],
   "source": []
  },
  {
   "cell_type": "code",
   "execution_count": null,
   "metadata": {},
   "outputs": [],
   "source": []
  }
 ],
 "metadata": {
  "interpreter": {
   "hash": "916dbcbb3f70747c44a77c7bcd40155683ae19c65e1c03b4aa3499c5328201f1"
  },
  "kernelspec": {
   "display_name": "Python 3.8.10 64-bit",
   "language": "python",
   "name": "python3"
  },
  "language_info": {
   "codemirror_mode": {
    "name": "ipython",
    "version": 3
   },
   "file_extension": ".py",
   "mimetype": "text/x-python",
   "name": "python",
   "nbconvert_exporter": "python",
   "pygments_lexer": "ipython3",
   "version": "3.8.10"
  },
  "orig_nbformat": 4
 },
 "nbformat": 4,
 "nbformat_minor": 2
}
