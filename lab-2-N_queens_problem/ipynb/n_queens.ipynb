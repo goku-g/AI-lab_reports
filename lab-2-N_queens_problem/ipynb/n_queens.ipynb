{
 "cells": [
  {
   "cell_type": "code",
   "execution_count": 2,
   "metadata": {},
   "outputs": [],
   "source": [
    "import pprint"
   ]
  },
  {
   "cell_type": "code",
   "execution_count": 43,
   "metadata": {},
   "outputs": [],
   "source": [
    "class grid:\n",
    "    def __init__(self, nfquen):\n",
    "        self.queens = nfquen\n",
    "        self.grid = [[' ' for i in range(self.queens)] for j in range(self.queens)]\n",
    "    \n",
    "\n",
    "    def is_safe(self, posx, posy):\n",
    "        for row in range(self.queens):\n",
    "            if(self.grid[row][posy] == 'Q'):\n",
    "                return False\n",
    "        for col in range(self.queens):\n",
    "            if(self.grid[posx][col] == 'Q'):\n",
    "                return False\n",
    "        \n",
    "        \n",
    "        row = posx\n",
    "        col = posy\n",
    "        while(row>=0 and col>=0):\n",
    "            # print(row, col, end=\",\")\n",
    "            if(self.grid[row][col] == 'Q'):\n",
    "                return False\n",
    "            row -= 1\n",
    "            col -= 1\n",
    "        # print('')\n",
    "        row = posx\n",
    "        col = posy\n",
    "        while(row<self.queens and col<self.queens):\n",
    "            # print(row, col, end=\",\")\n",
    "            if(self.grid[row][col] == 'Q'):\n",
    "                return False\n",
    "            row += 1\n",
    "            col += 1\n",
    "        # print('')\n",
    "        row = posx\n",
    "        col = posy\n",
    "        while(row<self.queens and col>=0):\n",
    "            # print(row, col, end=\",\")\n",
    "            if(self.grid[row][col] == 'Q'):\n",
    "                return False\n",
    "            row += 1\n",
    "            col -= 1\n",
    "        # print('')\n",
    "        row = posx\n",
    "        col = posy\n",
    "        while(row>=0 and col<self.queens):\n",
    "            # print(row, col, end=\",\")\n",
    "            if(self.grid[row][col] == 'Q'):\n",
    "                return False\n",
    "            row -= 1\n",
    "            col += 1\n",
    "        # print('')\n",
    "        return True\n",
    "    \n",
    "    def palce_queen(self, posx, posy):\n",
    "        self.grid[posx][posy] = 'Q'\n",
    "\n",
    "    def reset(self, posx, posy):\n",
    "        # self.grid = [[' ' for i in range(self.queens)] for j in range(self.queens)]\n",
    "        self.grid[posx][posy] = ' '\n",
    "\n",
    "    def show(self):\n",
    "        pprint.pprint(self.grid)"
   ]
  },
  {
   "cell_type": "code",
   "execution_count": 41,
   "metadata": {},
   "outputs": [],
   "source": [
    "def nqueen(board, index, queens):\n",
    "    if(index >= queens):\n",
    "        return True\n",
    "\n",
    "    for col in range(queens):\n",
    "        if(board.is_safe(index, col)):\n",
    "            board.palce_queen(index, col)\n",
    "            if(nqueen(board, index+1, queens)):\n",
    "                return True\n",
    "            board.reset(index, col)\n",
    "    return False"
   ]
  },
  {
   "cell_type": "code",
   "execution_count": 51,
   "metadata": {},
   "outputs": [
    {
     "name": "stdout",
     "output_type": "stream",
     "text": [
      "[['Q', ' ', ' ', ' ', ' '],\n",
      " [' ', ' ', 'Q', ' ', ' '],\n",
      " [' ', ' ', ' ', ' ', 'Q'],\n",
      " [' ', 'Q', ' ', ' ', ' '],\n",
      " [' ', ' ', ' ', 'Q', ' ']]\n"
     ]
    }
   ],
   "source": [
    "nfqueen = int(input(\"Enter the number of queen: \"))\n",
    "board = grid(nfqueen)\n",
    "\n",
    "done = nqueen(board, 0, nfqueen)\n",
    "if(done):\n",
    "    board.show()\n",
    "else:\n",
    "    print(\"No solutions!\")"
   ]
  },
  {
   "cell_type": "code",
   "execution_count": null,
   "metadata": {},
   "outputs": [],
   "source": []
  }
 ],
 "metadata": {
  "interpreter": {
   "hash": "916dbcbb3f70747c44a77c7bcd40155683ae19c65e1c03b4aa3499c5328201f1"
  },
  "kernelspec": {
   "display_name": "Python 3.8.10 64-bit",
   "language": "python",
   "name": "python3"
  },
  "language_info": {
   "codemirror_mode": {
    "name": "ipython",
    "version": 3
   },
   "file_extension": ".py",
   "mimetype": "text/x-python",
   "name": "python",
   "nbconvert_exporter": "python",
   "pygments_lexer": "ipython3",
   "version": "3.8.10"
  },
  "orig_nbformat": 4
 },
 "nbformat": 4,
 "nbformat_minor": 2
}
